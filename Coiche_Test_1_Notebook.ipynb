{
 "cells": [
  {
   "cell_type": "code",
   "execution_count": 1,
   "metadata": {},
   "outputs": [],
   "source": [
    "import random\n",
    "from enum import Enum\n",
    "from dataclasses import dataclass\n",
    "from typing import List, Dict, Tuple, Optional, Set\n",
    "import tkinter as tk\n",
    "from tkinter import ttk"
   ]
  },
  {
   "cell_type": "code",
   "execution_count": 2,
   "metadata": {},
   "outputs": [],
   "source": [
    "class Suit(Enum):\n",
    "    SPADES = \"♠\"\n",
    "    HEARTS = \"♥\"\n",
    "    DIAMONDS = \"♦\"\n",
    "    CLUBS = \"♣\"\n",
    "\n",
    "class Rank(Enum):\n",
    "    SEVEN = \"7\"\n",
    "    EIGHT = \"8\"\n",
    "    NINE = \"9\"\n",
    "    TEN = \"10\"\n",
    "    JACK = \"J\"\n",
    "    QUEEN = \"Q\"\n",
    "    KING = \"K\"\n",
    "    ACE = \"A\"\n"
   ]
  },
  {
   "cell_type": "code",
   "execution_count": 3,
   "metadata": {},
   "outputs": [],
   "source": [
    "@dataclass\n",
    "class Card:\n",
    "    suit: Suit\n",
    "    rank: Rank\n",
    "    \n",
    "    def __str__(self):\n",
    "        return f\"{self.rank.value}{self.suit.value}\""
   ]
  },
  {
   "cell_type": "code",
   "execution_count": 4,
   "metadata": {},
   "outputs": [],
   "source": [
    "class Player:\n",
    "    def __init__(self, position: int):\n",
    "        self.position = position\n",
    "        self.hand: List[Card] = []\n",
    "        self.team = None  # Will be set when added to a team\n",
    "        self.tricks_won = 0\n",
    "        \n",
    "    def receive_card(self, card: Card):\n",
    "        self.hand.append(card)\n",
    "        \n",
    "    def play_card(self, card: Card):\n",
    "        self.hand.remove(card)\n",
    "        return card\n",
    "    \n",
    "    def get_legal_moves(self, trick) -> List[Card]:\n",
    "        # Logic to determine legal moves based on the current trick\n",
    "        # This is a placeholder - implement actual rules\n",
    "        return self.hand\n",
    "    \n",
    "    def get_teammate(self):\n",
    "        \"\"\"Returns the teammate of this player\"\"\"\n",
    "        if self.team:\n",
    "            return next((p for p in self.team.players if p != self), None)\n",
    "        return None\n",
    "    \n",
    "    def get_opponents(self):\n",
    "        \"\"\"Returns a list of opponent players\"\"\"\n",
    "        opponents = []\n",
    "        for team in self.team.game.teams:\n",
    "            if team != self.team:\n",
    "                opponents.extend(team.players)\n",
    "        return opponents\n",
    "\n"
   ]
  },
  {
   "cell_type": "code",
   "execution_count": 5,
   "metadata": {},
   "outputs": [],
   "source": [
    "class CoincheDeck:\n",
    "    def __init__(self):\n",
    "        self.cards = [Card(suit, rank) \n",
    "                     for suit in Suit \n",
    "                     for rank in Rank]\n",
    "        \n",
    "    def shuffle(self):\n",
    "        random.shuffle(self.cards)\n",
    "        \n",
    "    def deal(self, players: List[Player], deal_pattern: Tuple[int, int, int]):\n",
    "        card_index = 0\n",
    "        for num_cards in deal_pattern:\n",
    "            for player in players:\n",
    "                for _ in range(num_cards):\n",
    "                    if card_index < len(self.cards):\n",
    "                        player.receive_card(self.cards[card_index])\n",
    "                        card_index += 1"
   ]
  },
  {
   "cell_type": "code",
   "execution_count": 6,
   "metadata": {},
   "outputs": [],
   "source": [
    "class Team:\n",
    "    def __init__(self, team_id: int):\n",
    "        self.team_id = team_id\n",
    "        self.score = 0\n",
    "        self.players = []  # Will contain references to Player objects\n",
    "    \n",
    "    def add_player(self, player):\n",
    "        self.players.append(player)\n",
    "        player.team = self\n",
    "    \n",
    "    def get_players(self):\n",
    "        return self.players\n",
    "        \n",
    "    def get_score(self):\n",
    "        return self.score\n",
    "    \n",
    "    def add_score(self, points: int):\n",
    "        self.score += points\n",
    "\n"
   ]
  },
  {
   "cell_type": "code",
   "execution_count": 7,
   "metadata": {},
   "outputs": [],
   "source": [
    "class CoinchePainterGUI:\n",
    "    def __init__(self, root):\n",
    "        self.root = root\n",
    "        self.root.title(\"Coinche Game\")\n",
    "        self.canvas = tk.Canvas(root, width=800, height=600)\n",
    "        self.canvas.pack()\n",
    "        \n",
    "    def draw_game_state(self, game_state):\n",
    "        self.canvas.delete(\"all\")\n",
    "        # Draw the game board\n",
    "        self.draw_board()\n",
    "        \n",
    "        # Draw players' hands and info\n",
    "        if game_state and 'players' in game_state:\n",
    "            for player in game_state['players']:\n",
    "                self.draw_player(player, game_state)\n",
    "        \n",
    "        # Draw current trick\n",
    "        if game_state and 'current_trick' in game_state and game_state['current_trick']:\n",
    "            self.draw_trick(game_state['current_trick'])\n",
    "        \n",
    "        # Draw bidding info\n",
    "        if game_state and 'current_bid' in game_state and game_state['current_bid']:\n",
    "            self.draw_bid(game_state['current_bid'])\n",
    "        \n",
    "        # Draw team scores\n",
    "        if game_state and 'teams' in game_state:\n",
    "            self.draw_scores(game_state['teams'])\n",
    "    \n",
    "    def draw_board(self):\n",
    "        # Draw the basic board layout\n",
    "        self.canvas.create_rectangle(50, 50, 750, 550, outline=\"green\", fill=\"darkgreen\", width=2)\n",
    "        \n",
    "    def draw_player(self, player, game_state):\n",
    "        # Draw player's hand and information based on position\n",
    "        pos = player.position\n",
    "        teammate = player.get_teammate()\n",
    "        \n",
    "        # Calculate position based on player number\n",
    "        positions = [\n",
    "            (400, 520),  # Bottom (player 0)\n",
    "            (50, 300),   # Left (player 1)\n",
    "            (400, 80),   # Top (player 2)\n",
    "            (750, 300)   # Right (player 3)\n",
    "        ]\n",
    "        \n",
    "        x, y = positions[pos]\n",
    "        \n",
    "        # Draw player indicator\n",
    "        team_color = \"blue\" if player.team.team_id == 0 else \"red\"\n",
    "        self.canvas.create_oval(x-20, y-20, x+20, y+20, fill=team_color)\n",
    "        \n",
    "        # Draw player's position and team info\n",
    "        self.canvas.create_text(x, y-30, text=f\"Player {pos} (Team {player.team.team_id})\")\n",
    "        if teammate:\n",
    "            self.canvas.create_text(x, y-50, text=f\"Teammate: Player {teammate.position}\")\n",
    "        \n",
    "        # Draw hand for the bottom player only (to represent the viewing player)\n",
    "        if pos == 0:  # Bottom player\n",
    "            self.draw_hand(player.hand, x-150, y+30)\n",
    "    \n",
    "    def draw_hand(self, hand, x, y):\n",
    "        # Draw the player's cards\n",
    "        for i, card in enumerate(hand):\n",
    "            color = \"red\" if card.suit in [Suit.HEARTS, Suit.DIAMONDS] else \"black\"\n",
    "            self.canvas.create_rectangle(x + i*30, y, x + i*30 + 25, y + 40, fill=\"white\")\n",
    "            self.canvas.create_text(x + i*30 + 12, y + 20, text=str(card), fill=color)\n",
    "    \n",
    "    def draw_trick(self, trick):\n",
    "        # Draw the current trick in the middle of the board\n",
    "        center_x, center_y = 400, 300\n",
    "        positions = [\n",
    "            (center_x, center_y+60),  # Bottom\n",
    "            (center_x-60, center_y),   # Left\n",
    "            (center_x, center_y-60),   # Top\n",
    "            (center_x+60, center_y)    # Right\n",
    "        ]\n",
    "        \n",
    "        for i, (player, card) in enumerate(trick.cards_played):\n",
    "            pos = player.position\n",
    "            x, y = positions[pos]\n",
    "            color = \"red\" if card.suit in [Suit.HEARTS, Suit.DIAMONDS] else \"black\"\n",
    "            self.canvas.create_rectangle(x-15, y-20, x+15, y+20, fill=\"white\")\n",
    "            self.canvas.create_text(x, y, text=str(card), fill=color)\n",
    "    \n",
    "    def draw_bid(self, bid):\n",
    "        # Draw the current bid information\n",
    "        x, y = 400, 200\n",
    "        text = f\"Bid: {bid.points} on {bid.trump_suit.value}\"\n",
    "        if bid.is_coinched:\n",
    "            text += \" (Coinched)\"\n",
    "        if bid.is_surcoinched:\n",
    "            text += \" (Surcoinched)\"\n",
    "        self.canvas.create_text(x, y, text=text, fill=\"white\")\n",
    "    \n",
    "    def draw_scores(self, teams):\n",
    "        # Draw team scores\n",
    "        self.canvas.create_text(100, 30, text=f\"Team Blue: {teams[0].score}\", fill=\"blue\")\n",
    "        self.canvas.create_text(700, 30, text=f\"Team Red: {teams[1].score}\", fill=\"red\")\n"
   ]
  },
  {
   "cell_type": "code",
   "execution_count": 8,
   "metadata": {},
   "outputs": [],
   "source": [
    "class CoinchePainter:\n",
    "    def __init__(self):\n",
    "        self.root = tk.Tk()\n",
    "        self.gui = CoinchePainterGUI(self.root)\n",
    "    \n",
    "    def update(self, game_state):\n",
    "        self.gui.draw_game_state(game_state)\n",
    "        self.root.update()\n"
   ]
  },
  {
   "cell_type": "code",
   "execution_count": 9,
   "metadata": {},
   "outputs": [],
   "source": [
    "class CoincheBid:\n",
    "    def __init__(self, points: int, trump_suit: Suit, player: Player):\n",
    "        self.points = points\n",
    "        self.trump_suit = trump_suit\n",
    "        self.player = player\n",
    "        self.is_coinched = False\n",
    "        self.is_surcoinched = False\n"
   ]
  },
  {
   "cell_type": "code",
   "execution_count": 10,
   "metadata": {},
   "outputs": [],
   "source": [
    "class CoincheTrick:\n",
    "    NORMAL_POINTS = {\n",
    "        Rank.SEVEN: 0, Rank.EIGHT: 0, Rank.NINE: 0,\n",
    "        Rank.TEN: 10, Rank.JACK: 2, Rank.QUEEN: 3,\n",
    "        Rank.KING: 4, Rank.ACE: 11\n",
    "    }\n",
    "    \n",
    "    TRUMP_POINTS = {\n",
    "        Rank.SEVEN: 0, Rank.EIGHT: 0, Rank.NINE: 14,\n",
    "        Rank.TEN: 10, Rank.JACK: 20, Rank.QUEEN: 3,\n",
    "        Rank.KING: 4, Rank.ACE: 11\n",
    "    }\n",
    "    \n",
    "    def __init__(self, trump_suit: Optional[Suit]):\n",
    "        self.cards_played: List[Tuple[Player, Card]] = []\n",
    "        self.trump_suit = trump_suit\n",
    "        self.leading_suit = None\n",
    "        \n",
    "    def play_card(self, player: Player, card: Card) -> bool:\n",
    "        if not self.leading_suit:\n",
    "            self.leading_suit = card.suit\n",
    "        \n",
    "        # Add validation logic here for legal moves\n",
    "        \n",
    "        self.cards_played.append((player, card))\n",
    "        return True\n",
    "    \n",
    "    def calculate_winner(self) -> Tuple[Player, int]:\n",
    "        highest_value = -1\n",
    "        winning_player = None\n",
    "        total_points = 0\n",
    "        \n",
    "        for player, card in self.cards_played:\n",
    "            points = self.TRUMP_POINTS[card.rank] if card.suit == self.trump_suit \\\n",
    "                    else self.NORMAL_POINTS[card.rank]\n",
    "            total_points += points\n",
    "            \n",
    "            # Determine card strength for winning\n",
    "            is_trump = card.suit == self.trump_suit\n",
    "            card_strength = 100 + self.TRUMP_POINTS[card.rank] if is_trump else \\\n",
    "                           (50 + self.NORMAL_POINTS[card.rank] if card.suit == self.leading_suit else 0)\n",
    "            \n",
    "            if card_strength > highest_value:\n",
    "                highest_value = card_strength\n",
    "                winning_player = player\n",
    "            \n",
    "        return winning_player, total_points\n"
   ]
  },
  {
   "cell_type": "code",
   "execution_count": 11,
   "metadata": {},
   "outputs": [],
   "source": [
    "class CoinceGame:\n",
    "    def __init__(self):\n",
    "        self.deck = CoincheDeck()\n",
    "        self.players = [Player(i) for i in range(4)]\n",
    "        self.teams = [Team(0), Team(1)]  # Create two teams\n",
    "        self.current_trick = None\n",
    "        self.tricks_played = []\n",
    "        self.current_bid = None\n",
    "        self.current_player = 0 # Index of current player\n",
    "        self.painter = CoinchePainter()\n",
    "        \n",
    "        # Setup teams - players 0,2 are Team 0, players 1,3 are Team 1\n",
    "        self.setup_teams()\n",
    "        \n",
    "        # Reference to the game in players for accessing opponents\n",
    "        for player in self.players:\n",
    "            player.game = self\n",
    "    \n",
    "    def setup_teams(self):\n",
    "        # Assign players to teams (0,2 -> team 0, 1,3 -> team 1)\n",
    "        self.teams[0].add_player(self.players[0])\n",
    "        self.teams[0].add_player(self.players[2])\n",
    "        self.teams[1].add_player(self.players[1])\n",
    "        self.teams[1].add_player(self.players[3])\n",
    "\n",
    "    def shuffle_deck(self):\n",
    "        # Shuffle the deck\n",
    "        self.deck.shuffle()\n",
    "\n",
    "\n",
    "    def deal_card(self, player_id, deal_pattern):\n",
    "        # Clear players' hands before dealing so that no player has extra cards\n",
    "        for player in self.players:\n",
    "            player.hand = []\n",
    "    \n",
    "        # No need to alter the actual self.players order for shuffling.\n",
    "        # The deal_card method creates a temporary dealing order based on player_id,\n",
    "        # preserving team assignments and overall player order.\n",
    "        # Rearrange players so that dealing starts with the specified player_id\n",
    "        players_order = self.players[player_id:] + self.players[:player_id]\n",
    "        # Deal cards using the provided pattern\n",
    "        self.deck.deal(players_order, deal_pattern)\n",
    "        \n",
    "        self.current_player += 1\n",
    "        if self.current_player >= 4:\n",
    "            self.current_player = 0\n",
    "\n",
    "\n",
    "   "
   ]
  },
  {
   "cell_type": "markdown",
   "metadata": {},
   "source": [
    "# Initialisation d'un jeu de coinche"
   ]
  },
  {
   "cell_type": "code",
   "execution_count": 12,
   "metadata": {},
   "outputs": [],
   "source": [
    "game = CoinceGame()"
   ]
  },
  {
   "cell_type": "markdown",
   "metadata": {},
   "source": [
    "# Exploration de tout ce qu'on peut faire"
   ]
  },
  {
   "cell_type": "markdown",
   "metadata": {},
   "source": [
    "Ou sont les cartes"
   ]
  },
  {
   "cell_type": "code",
   "execution_count": 13,
   "metadata": {},
   "outputs": [
    {
     "data": {
      "text/plain": [
       "[Card(suit=<Suit.SPADES: '♠'>, rank=<Rank.SEVEN: '7'>),\n",
       " Card(suit=<Suit.SPADES: '♠'>, rank=<Rank.EIGHT: '8'>)]"
      ]
     },
     "execution_count": 13,
     "metadata": {},
     "output_type": "execute_result"
    }
   ],
   "source": [
    "game.deck.cards[:2]"
   ]
  },
  {
   "cell_type": "code",
   "execution_count": 14,
   "metadata": {},
   "outputs": [
    {
     "data": {
      "text/plain": [
       "(None, None)"
      ]
     },
     "execution_count": 14,
     "metadata": {},
     "output_type": "execute_result"
    }
   ],
   "source": [
    "game.current_bid, game.current_trick"
   ]
  },
  {
   "cell_type": "code",
   "execution_count": 15,
   "metadata": {},
   "outputs": [
    {
     "data": {
      "text/plain": [
       "[]"
      ]
     },
     "execution_count": 15,
     "metadata": {},
     "output_type": "execute_result"
    }
   ],
   "source": [
    "game.players[0].hand"
   ]
  },
  {
   "cell_type": "markdown",
   "metadata": {},
   "source": [
    "# On peut mélanger le jeu de cartes"
   ]
  },
  {
   "cell_type": "code",
   "execution_count": 16,
   "metadata": {},
   "outputs": [
    {
     "data": {
      "text/plain": [
       "[Card(suit=<Suit.HEARTS: '♥'>, rank=<Rank.QUEEN: 'Q'>),\n",
       " Card(suit=<Suit.CLUBS: '♣'>, rank=<Rank.SEVEN: '7'>)]"
      ]
     },
     "execution_count": 16,
     "metadata": {},
     "output_type": "execute_result"
    }
   ],
   "source": [
    "game.shuffle_deck()\n",
    "game.deck.cards[:2]"
   ]
  },
  {
   "cell_type": "code",
   "execution_count": 17,
   "metadata": {},
   "outputs": [
    {
     "data": {
      "text/plain": [
       "0"
      ]
     },
     "execution_count": 17,
     "metadata": {},
     "output_type": "execute_result"
    }
   ],
   "source": [
    "game.current_player"
   ]
  },
  {
   "cell_type": "markdown",
   "metadata": {},
   "source": [
    "# On peut distribuer des cartes"
   ]
  },
  {
   "cell_type": "code",
   "execution_count": 18,
   "metadata": {},
   "outputs": [],
   "source": [
    "facon_de_distribuer = [(3, 3, 2), (2, 3, 3), (3, 2, 3)]\n",
    "game.deal_card(game.current_player, facon_de_distribuer[0])"
   ]
  },
  {
   "cell_type": "code",
   "execution_count": 19,
   "metadata": {},
   "outputs": [
    {
     "data": {
      "text/plain": [
       "[Card(suit=<Suit.HEARTS: '♥'>, rank=<Rank.QUEEN: 'Q'>),\n",
       " Card(suit=<Suit.CLUBS: '♣'>, rank=<Rank.SEVEN: '7'>),\n",
       " Card(suit=<Suit.CLUBS: '♣'>, rank=<Rank.TEN: '10'>),\n",
       " Card(suit=<Suit.SPADES: '♠'>, rank=<Rank.QUEEN: 'Q'>),\n",
       " Card(suit=<Suit.HEARTS: '♥'>, rank=<Rank.JACK: 'J'>),\n",
       " Card(suit=<Suit.DIAMONDS: '♦'>, rank=<Rank.NINE: '9'>),\n",
       " Card(suit=<Suit.SPADES: '♠'>, rank=<Rank.TEN: '10'>),\n",
       " Card(suit=<Suit.HEARTS: '♥'>, rank=<Rank.EIGHT: '8'>)]"
      ]
     },
     "execution_count": 19,
     "metadata": {},
     "output_type": "execute_result"
    }
   ],
   "source": [
    "game.players[0].hand"
   ]
  },
  {
   "cell_type": "code",
   "execution_count": 20,
   "metadata": {},
   "outputs": [
    {
     "data": {
      "text/plain": [
       "1"
      ]
     },
     "execution_count": 20,
     "metadata": {},
     "output_type": "execute_result"
    }
   ],
   "source": [
    "game.current_player"
   ]
  },
  {
   "cell_type": "markdown",
   "metadata": {},
   "source": [
    "# On peut regarder les annonces et comment les faires"
   ]
  },
  {
   "cell_type": "code",
   "execution_count": null,
   "metadata": {},
   "outputs": [],
   "source": []
  }
 ],
 "metadata": {
  "kernelspec": {
   "display_name": "Python 3",
   "language": "python",
   "name": "python3"
  },
  "language_info": {
   "codemirror_mode": {
    "name": "ipython",
    "version": 3
   },
   "file_extension": ".py",
   "mimetype": "text/x-python",
   "name": "python",
   "nbconvert_exporter": "python",
   "pygments_lexer": "ipython3",
   "version": "3.12.3"
  }
 },
 "nbformat": 4,
 "nbformat_minor": 2
}
